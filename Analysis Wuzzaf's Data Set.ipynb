{
 "cells": [
  {
   "cell_type": "code",
   "execution_count": 1,
   "id": "cb3fc3dc",
   "metadata": {},
   "outputs": [],
   "source": [
    "from bs4 import BeautifulSoup as bs\n",
    "from urllib.request import urlopen\n",
    "import csv"
   ]
  },
  {
   "cell_type": "code",
   "execution_count": 2,
   "id": "fd6e9200",
   "metadata": {},
   "outputs": [],
   "source": [
    "x=list(range(132))\n",
    "limit=2620\n",
    "keys=0\n",
    "urls=[]\n",
    "for i in x:\n",
    "    key=keys\n",
    "    y = str(key)\n",
    "    url='https://wuzzuf.net/a/IT-Software-Development-Jobs-in-Egypt?start='+y\n",
    "    urls.append(url)\n",
    "    keys+=20\n",
    "    if key==limit:\n",
    "        break"
   ]
  },
  {
   "cell_type": "code",
   "execution_count": 5,
   "id": "5cf3f5d8",
   "metadata": {},
   "outputs": [
    {
     "name": "stdout",
     "output_type": "stream",
     "text": [
      "https://wuzzuf.net/a/IT-Software-Development-Jobs-in-Egypt?start=0\n",
      "https://wuzzuf.net/a/IT-Software-Development-Jobs-in-Egypt?start=20\n",
      "https://wuzzuf.net/a/IT-Software-Development-Jobs-in-Egypt?start=40\n",
      "https://wuzzuf.net/a/IT-Software-Development-Jobs-in-Egypt?start=60\n",
      "https://wuzzuf.net/a/IT-Software-Development-Jobs-in-Egypt?start=80\n",
      "https://wuzzuf.net/a/IT-Software-Development-Jobs-in-Egypt?start=100\n",
      "https://wuzzuf.net/a/IT-Software-Development-Jobs-in-Egypt?start=120\n",
      "https://wuzzuf.net/a/IT-Software-Development-Jobs-in-Egypt?start=140\n",
      "https://wuzzuf.net/a/IT-Software-Development-Jobs-in-Egypt?start=160\n",
      "https://wuzzuf.net/a/IT-Software-Development-Jobs-in-Egypt?start=180\n",
      "https://wuzzuf.net/a/IT-Software-Development-Jobs-in-Egypt?start=200\n",
      "https://wuzzuf.net/a/IT-Software-Development-Jobs-in-Egypt?start=220\n",
      "https://wuzzuf.net/a/IT-Software-Development-Jobs-in-Egypt?start=240\n",
      "https://wuzzuf.net/a/IT-Software-Development-Jobs-in-Egypt?start=260\n",
      "https://wuzzuf.net/a/IT-Software-Development-Jobs-in-Egypt?start=280\n",
      "https://wuzzuf.net/a/IT-Software-Development-Jobs-in-Egypt?start=300\n",
      "https://wuzzuf.net/a/IT-Software-Development-Jobs-in-Egypt?start=320\n",
      "https://wuzzuf.net/a/IT-Software-Development-Jobs-in-Egypt?start=340\n",
      "https://wuzzuf.net/a/IT-Software-Development-Jobs-in-Egypt?start=360\n",
      "https://wuzzuf.net/a/IT-Software-Development-Jobs-in-Egypt?start=380\n",
      "https://wuzzuf.net/a/IT-Software-Development-Jobs-in-Egypt?start=400\n",
      "https://wuzzuf.net/a/IT-Software-Development-Jobs-in-Egypt?start=420\n",
      "https://wuzzuf.net/a/IT-Software-Development-Jobs-in-Egypt?start=440\n",
      "https://wuzzuf.net/a/IT-Software-Development-Jobs-in-Egypt?start=460\n",
      "https://wuzzuf.net/a/IT-Software-Development-Jobs-in-Egypt?start=480\n",
      "https://wuzzuf.net/a/IT-Software-Development-Jobs-in-Egypt?start=500\n",
      "https://wuzzuf.net/a/IT-Software-Development-Jobs-in-Egypt?start=520\n",
      "https://wuzzuf.net/a/IT-Software-Development-Jobs-in-Egypt?start=540\n",
      "https://wuzzuf.net/a/IT-Software-Development-Jobs-in-Egypt?start=560\n",
      "https://wuzzuf.net/a/IT-Software-Development-Jobs-in-Egypt?start=580\n",
      "https://wuzzuf.net/a/IT-Software-Development-Jobs-in-Egypt?start=600\n",
      "https://wuzzuf.net/a/IT-Software-Development-Jobs-in-Egypt?start=620\n",
      "https://wuzzuf.net/a/IT-Software-Development-Jobs-in-Egypt?start=640\n",
      "https://wuzzuf.net/a/IT-Software-Development-Jobs-in-Egypt?start=660\n",
      "https://wuzzuf.net/a/IT-Software-Development-Jobs-in-Egypt?start=680\n",
      "https://wuzzuf.net/a/IT-Software-Development-Jobs-in-Egypt?start=700\n",
      "https://wuzzuf.net/a/IT-Software-Development-Jobs-in-Egypt?start=720\n",
      "https://wuzzuf.net/a/IT-Software-Development-Jobs-in-Egypt?start=740\n",
      "https://wuzzuf.net/a/IT-Software-Development-Jobs-in-Egypt?start=760\n",
      "https://wuzzuf.net/a/IT-Software-Development-Jobs-in-Egypt?start=780\n",
      "https://wuzzuf.net/a/IT-Software-Development-Jobs-in-Egypt?start=800\n",
      "https://wuzzuf.net/a/IT-Software-Development-Jobs-in-Egypt?start=820\n",
      "https://wuzzuf.net/a/IT-Software-Development-Jobs-in-Egypt?start=840\n",
      "https://wuzzuf.net/a/IT-Software-Development-Jobs-in-Egypt?start=860\n",
      "https://wuzzuf.net/a/IT-Software-Development-Jobs-in-Egypt?start=880\n",
      "https://wuzzuf.net/a/IT-Software-Development-Jobs-in-Egypt?start=900\n",
      "https://wuzzuf.net/a/IT-Software-Development-Jobs-in-Egypt?start=920\n",
      "https://wuzzuf.net/a/IT-Software-Development-Jobs-in-Egypt?start=940\n",
      "https://wuzzuf.net/a/IT-Software-Development-Jobs-in-Egypt?start=960\n",
      "https://wuzzuf.net/a/IT-Software-Development-Jobs-in-Egypt?start=980\n",
      "https://wuzzuf.net/a/IT-Software-Development-Jobs-in-Egypt?start=1000\n",
      "https://wuzzuf.net/a/IT-Software-Development-Jobs-in-Egypt?start=1020\n",
      "https://wuzzuf.net/a/IT-Software-Development-Jobs-in-Egypt?start=1040\n",
      "https://wuzzuf.net/a/IT-Software-Development-Jobs-in-Egypt?start=1060\n",
      "https://wuzzuf.net/a/IT-Software-Development-Jobs-in-Egypt?start=1080\n",
      "https://wuzzuf.net/a/IT-Software-Development-Jobs-in-Egypt?start=1100\n",
      "https://wuzzuf.net/a/IT-Software-Development-Jobs-in-Egypt?start=1120\n",
      "https://wuzzuf.net/a/IT-Software-Development-Jobs-in-Egypt?start=1140\n",
      "https://wuzzuf.net/a/IT-Software-Development-Jobs-in-Egypt?start=1160\n",
      "https://wuzzuf.net/a/IT-Software-Development-Jobs-in-Egypt?start=1180\n",
      "https://wuzzuf.net/a/IT-Software-Development-Jobs-in-Egypt?start=1200\n",
      "https://wuzzuf.net/a/IT-Software-Development-Jobs-in-Egypt?start=1220\n",
      "https://wuzzuf.net/a/IT-Software-Development-Jobs-in-Egypt?start=1240\n",
      "https://wuzzuf.net/a/IT-Software-Development-Jobs-in-Egypt?start=1260\n",
      "https://wuzzuf.net/a/IT-Software-Development-Jobs-in-Egypt?start=1280\n",
      "https://wuzzuf.net/a/IT-Software-Development-Jobs-in-Egypt?start=1300\n",
      "https://wuzzuf.net/a/IT-Software-Development-Jobs-in-Egypt?start=1320\n",
      "https://wuzzuf.net/a/IT-Software-Development-Jobs-in-Egypt?start=1340\n",
      "https://wuzzuf.net/a/IT-Software-Development-Jobs-in-Egypt?start=1360\n",
      "https://wuzzuf.net/a/IT-Software-Development-Jobs-in-Egypt?start=1380\n",
      "https://wuzzuf.net/a/IT-Software-Development-Jobs-in-Egypt?start=1400\n",
      "https://wuzzuf.net/a/IT-Software-Development-Jobs-in-Egypt?start=1420\n",
      "https://wuzzuf.net/a/IT-Software-Development-Jobs-in-Egypt?start=1440\n",
      "https://wuzzuf.net/a/IT-Software-Development-Jobs-in-Egypt?start=1460\n",
      "https://wuzzuf.net/a/IT-Software-Development-Jobs-in-Egypt?start=1480\n",
      "https://wuzzuf.net/a/IT-Software-Development-Jobs-in-Egypt?start=1500\n",
      "https://wuzzuf.net/a/IT-Software-Development-Jobs-in-Egypt?start=1520\n",
      "https://wuzzuf.net/a/IT-Software-Development-Jobs-in-Egypt?start=1540\n",
      "https://wuzzuf.net/a/IT-Software-Development-Jobs-in-Egypt?start=1560\n",
      "https://wuzzuf.net/a/IT-Software-Development-Jobs-in-Egypt?start=1580\n",
      "https://wuzzuf.net/a/IT-Software-Development-Jobs-in-Egypt?start=1600\n",
      "https://wuzzuf.net/a/IT-Software-Development-Jobs-in-Egypt?start=1620\n",
      "https://wuzzuf.net/a/IT-Software-Development-Jobs-in-Egypt?start=1640\n",
      "https://wuzzuf.net/a/IT-Software-Development-Jobs-in-Egypt?start=1660\n",
      "https://wuzzuf.net/a/IT-Software-Development-Jobs-in-Egypt?start=1680\n",
      "https://wuzzuf.net/a/IT-Software-Development-Jobs-in-Egypt?start=1700\n",
      "https://wuzzuf.net/a/IT-Software-Development-Jobs-in-Egypt?start=1720\n",
      "https://wuzzuf.net/a/IT-Software-Development-Jobs-in-Egypt?start=1740\n",
      "https://wuzzuf.net/a/IT-Software-Development-Jobs-in-Egypt?start=1760\n",
      "https://wuzzuf.net/a/IT-Software-Development-Jobs-in-Egypt?start=1780\n",
      "https://wuzzuf.net/a/IT-Software-Development-Jobs-in-Egypt?start=1800\n",
      "https://wuzzuf.net/a/IT-Software-Development-Jobs-in-Egypt?start=1820\n",
      "https://wuzzuf.net/a/IT-Software-Development-Jobs-in-Egypt?start=1840\n",
      "https://wuzzuf.net/a/IT-Software-Development-Jobs-in-Egypt?start=1860\n",
      "https://wuzzuf.net/a/IT-Software-Development-Jobs-in-Egypt?start=1880\n",
      "https://wuzzuf.net/a/IT-Software-Development-Jobs-in-Egypt?start=1900\n",
      "https://wuzzuf.net/a/IT-Software-Development-Jobs-in-Egypt?start=1920\n",
      "https://wuzzuf.net/a/IT-Software-Development-Jobs-in-Egypt?start=1940\n",
      "https://wuzzuf.net/a/IT-Software-Development-Jobs-in-Egypt?start=1960\n",
      "https://wuzzuf.net/a/IT-Software-Development-Jobs-in-Egypt?start=1980\n",
      "https://wuzzuf.net/a/IT-Software-Development-Jobs-in-Egypt?start=2000\n",
      "https://wuzzuf.net/a/IT-Software-Development-Jobs-in-Egypt?start=2020\n",
      "https://wuzzuf.net/a/IT-Software-Development-Jobs-in-Egypt?start=2040\n",
      "https://wuzzuf.net/a/IT-Software-Development-Jobs-in-Egypt?start=2060\n",
      "https://wuzzuf.net/a/IT-Software-Development-Jobs-in-Egypt?start=2080\n",
      "https://wuzzuf.net/a/IT-Software-Development-Jobs-in-Egypt?start=2100\n",
      "https://wuzzuf.net/a/IT-Software-Development-Jobs-in-Egypt?start=2120\n",
      "https://wuzzuf.net/a/IT-Software-Development-Jobs-in-Egypt?start=2140\n",
      "https://wuzzuf.net/a/IT-Software-Development-Jobs-in-Egypt?start=2160\n",
      "https://wuzzuf.net/a/IT-Software-Development-Jobs-in-Egypt?start=2180\n",
      "https://wuzzuf.net/a/IT-Software-Development-Jobs-in-Egypt?start=2200\n",
      "https://wuzzuf.net/a/IT-Software-Development-Jobs-in-Egypt?start=2220\n",
      "https://wuzzuf.net/a/IT-Software-Development-Jobs-in-Egypt?start=2240\n",
      "https://wuzzuf.net/a/IT-Software-Development-Jobs-in-Egypt?start=2260\n",
      "https://wuzzuf.net/a/IT-Software-Development-Jobs-in-Egypt?start=2280\n",
      "https://wuzzuf.net/a/IT-Software-Development-Jobs-in-Egypt?start=2300\n",
      "https://wuzzuf.net/a/IT-Software-Development-Jobs-in-Egypt?start=2320\n",
      "https://wuzzuf.net/a/IT-Software-Development-Jobs-in-Egypt?start=2340\n"
     ]
    },
    {
     "name": "stdout",
     "output_type": "stream",
     "text": [
      "https://wuzzuf.net/a/IT-Software-Development-Jobs-in-Egypt?start=2360\n",
      "https://wuzzuf.net/a/IT-Software-Development-Jobs-in-Egypt?start=2380\n",
      "https://wuzzuf.net/a/IT-Software-Development-Jobs-in-Egypt?start=2400\n",
      "https://wuzzuf.net/a/IT-Software-Development-Jobs-in-Egypt?start=2420\n",
      "https://wuzzuf.net/a/IT-Software-Development-Jobs-in-Egypt?start=2440\n",
      "https://wuzzuf.net/a/IT-Software-Development-Jobs-in-Egypt?start=2460\n",
      "https://wuzzuf.net/a/IT-Software-Development-Jobs-in-Egypt?start=2480\n",
      "https://wuzzuf.net/a/IT-Software-Development-Jobs-in-Egypt?start=2500\n",
      "https://wuzzuf.net/a/IT-Software-Development-Jobs-in-Egypt?start=2520\n",
      "https://wuzzuf.net/a/IT-Software-Development-Jobs-in-Egypt?start=2540\n",
      "https://wuzzuf.net/a/IT-Software-Development-Jobs-in-Egypt?start=2560\n",
      "https://wuzzuf.net/a/IT-Software-Development-Jobs-in-Egypt?start=2580\n",
      "https://wuzzuf.net/a/IT-Software-Development-Jobs-in-Egypt?start=2600\n",
      "https://wuzzuf.net/a/IT-Software-Development-Jobs-in-Egypt?start=2620\n"
     ]
    }
   ],
   "source": [
    "f= open(\"Wuzzuf_10_2021.csv\",\"w\",encoding='utf-8')\n",
    "header = \"#PAGE_URL,title,company-name,job-link_link,short-description-,location\\n\"\n",
    "f.write(header) \n",
    "for url in urls:\n",
    "    print(url)    \n",
    "    client=urlopen(url)\n",
    "    html= client.read()\n",
    "    client.close()\n",
    "    soup = bs(html,\"html.parser\")\n",
    "    containers = soup.find_all(\"div\",{\"class\":\"result-wrp row\"}) \n",
    "    for container in containers:\n",
    "    \n",
    "        job_job = container.findAll(\"h2\",{\"class\":\"job-title\"})\n",
    "        job_title = job_job[0].text.replace(\",\", \" .\").strip()    \n",
    "        company_names = container.findAll(\"span\",{\"class\":\"company-name\"})\n",
    "        company_name = company_names[0].text.replace(\",\", \" /\").strip()     \n",
    "        job_type = container.findAll(\"div\",{\"class\":\"job-details\"})\n",
    "        job_descriptions = job_type[0].text.replace(\",\", \" -\").strip()\n",
    "        job_description = ' '.join(job_descriptions.split())\n",
    "        job_links = container.findAll(\"a\",{\"class\":\"mobile-job-link\"},href=True)\n",
    "        job_link = job_links[0]['href'].strip()\n",
    "        job_locations = container.findAll(\"span\",{\"class\":\"location-mobile\"})\n",
    "        job_location = job_locations[0].text.replace(\",\", \" \").strip()\n",
    "        f.write(url + \", \" +job_title + \", \" + company_name +\", \" + job_link +\", \" + job_description +\", \" + job_location + \"\\n\")    \n",
    "        \n",
    "f.close()"
   ]
  },
  {
   "cell_type": "code",
   "execution_count": 13,
   "id": "02fce927",
   "metadata": {},
   "outputs": [
    {
     "data": {
      "text/html": [
       "<div>\n",
       "<style scoped>\n",
       "    .dataframe tbody tr th:only-of-type {\n",
       "        vertical-align: middle;\n",
       "    }\n",
       "\n",
       "    .dataframe tbody tr th {\n",
       "        vertical-align: top;\n",
       "    }\n",
       "\n",
       "    .dataframe thead th {\n",
       "        text-align: right;\n",
       "    }\n",
       "</style>\n",
       "<table border=\"1\" class=\"dataframe\">\n",
       "  <thead>\n",
       "    <tr style=\"text-align: right;\">\n",
       "      <th></th>\n",
       "      <th>#PAGE_URL</th>\n",
       "      <th>title</th>\n",
       "      <th>company-name</th>\n",
       "      <th>job-link_link</th>\n",
       "      <th>short-description-</th>\n",
       "      <th>location</th>\n",
       "    </tr>\n",
       "  </thead>\n",
       "  <tbody>\n",
       "    <tr>\n",
       "      <th>0</th>\n",
       "      <td>https://wuzzuf.net/a/IT-Software-Development-J...</td>\n",
       "      <td>Business Development Specialist - Upper Egypt</td>\n",
       "      <td>golden</td>\n",
       "      <td>https://wuzzuf.net/jobs/p/1623d22c-3de2-455a-...</td>\n",
       "      <td>Full Time · Experienced · 2+ Yrs of Exp · Bus...</td>\n",
       "      <td>Aswan  Egypt</td>\n",
       "    </tr>\n",
       "    <tr>\n",
       "      <th>1</th>\n",
       "      <td>https://wuzzuf.net/a/IT-Software-Development-J...</td>\n",
       "      <td>Senior/Intermediate .NET Core Developer (Remo...</td>\n",
       "      <td>Confidential</td>\n",
       "      <td>https://wuzzuf.net/jobs/p/0efb55cc-3264-47b4-...</td>\n",
       "      <td>Full Time · Experienced · 4+ Yrs of Exp · Sof...</td>\n",
       "      <td>Cairo  Egypt</td>\n",
       "    </tr>\n",
       "    <tr>\n",
       "      <th>2</th>\n",
       "      <td>https://wuzzuf.net/a/IT-Software-Development-J...</td>\n",
       "      <td>Senior Software Developer</td>\n",
       "      <td>Bnsights</td>\n",
       "      <td>https://wuzzuf.net/jobs/p/d76caa63-bc76-4839-...</td>\n",
       "      <td>Full Time · Experienced · 6-10 Yrs of Exp · S...</td>\n",
       "      <td>New Cairo  Cairo</td>\n",
       "    </tr>\n",
       "    <tr>\n",
       "      <th>3</th>\n",
       "      <td>https://wuzzuf.net/a/IT-Software-Development-J...</td>\n",
       "      <td>Software Developer / Desktop Development</td>\n",
       "      <td>ITS</td>\n",
       "      <td>https://wuzzuf.net/jobs/p/2ffe3403-b147-4b38-...</td>\n",
       "      <td>Full Time · Entry Level · 0-2 Yrs of Exp · Co...</td>\n",
       "      <td>Nasr City  Cairo</td>\n",
       "    </tr>\n",
       "    <tr>\n",
       "      <th>4</th>\n",
       "      <td>https://wuzzuf.net/a/IT-Software-Development-J...</td>\n",
       "      <td>Senior Software Developer -Dynamics 365...</td>\n",
       "      <td>CrossWorkers</td>\n",
       "      <td>https://wuzzuf.net/jobs/p/b6ae6a6a-47b8-47f7-...</td>\n",
       "      <td>Full Time · Experienced · 4-12 Yrs of Exp · A...</td>\n",
       "      <td>New Cairo  Cairo</td>\n",
       "    </tr>\n",
       "  </tbody>\n",
       "</table>\n",
       "</div>"
      ],
      "text/plain": [
       "                                           #PAGE_URL  \\\n",
       "0  https://wuzzuf.net/a/IT-Software-Development-J...   \n",
       "1  https://wuzzuf.net/a/IT-Software-Development-J...   \n",
       "2  https://wuzzuf.net/a/IT-Software-Development-J...   \n",
       "3  https://wuzzuf.net/a/IT-Software-Development-J...   \n",
       "4  https://wuzzuf.net/a/IT-Software-Development-J...   \n",
       "\n",
       "                                               title   company-name  \\\n",
       "0      Business Development Specialist - Upper Egypt         golden   \n",
       "1   Senior/Intermediate .NET Core Developer (Remo...   Confidential   \n",
       "2                          Senior Software Developer       Bnsights   \n",
       "3           Software Developer / Desktop Development            ITS   \n",
       "4         Senior Software Developer -Dynamics 365...   CrossWorkers   \n",
       "\n",
       "                                       job-link_link  \\\n",
       "0   https://wuzzuf.net/jobs/p/1623d22c-3de2-455a-...   \n",
       "1   https://wuzzuf.net/jobs/p/0efb55cc-3264-47b4-...   \n",
       "2   https://wuzzuf.net/jobs/p/d76caa63-bc76-4839-...   \n",
       "3   https://wuzzuf.net/jobs/p/2ffe3403-b147-4b38-...   \n",
       "4   https://wuzzuf.net/jobs/p/b6ae6a6a-47b8-47f7-...   \n",
       "\n",
       "                                  short-description-           location  \n",
       "0   Full Time · Experienced · 2+ Yrs of Exp · Bus...       Aswan  Egypt  \n",
       "1   Full Time · Experienced · 4+ Yrs of Exp · Sof...       Cairo  Egypt  \n",
       "2   Full Time · Experienced · 6-10 Yrs of Exp · S...   New Cairo  Cairo  \n",
       "3   Full Time · Entry Level · 0-2 Yrs of Exp · Co...   Nasr City  Cairo  \n",
       "4   Full Time · Experienced · 4-12 Yrs of Exp · A...   New Cairo  Cairo  "
      ]
     },
     "execution_count": 13,
     "metadata": {},
     "output_type": "execute_result"
    }
   ],
   "source": [
    "import pandas as pd\n",
    "df_21 = pd.read_csv('Wuzzuf_10_2021.csv')\n",
    "df_21.head()\n"
   ]
  },
  {
   "cell_type": "code",
   "execution_count": 14,
   "id": "3e93f708",
   "metadata": {},
   "outputs": [
    {
     "name": "stdout",
     "output_type": "stream",
     "text": [
      "<class 'pandas.core.frame.DataFrame'>\n",
      "RangeIndex: 2638 entries, 0 to 2637\n",
      "Data columns (total 6 columns):\n",
      " #   Column              Non-Null Count  Dtype \n",
      "---  ------              --------------  ----- \n",
      " 0   #PAGE_URL           2638 non-null   object\n",
      " 1   title               2638 non-null   object\n",
      " 2   company-name        2638 non-null   object\n",
      " 3   job-link_link       2638 non-null   object\n",
      " 4   short-description-  2638 non-null   object\n",
      " 5   location            2638 non-null   object\n",
      "dtypes: object(6)\n",
      "memory usage: 123.8+ KB\n"
     ]
    }
   ],
   "source": [
    "df_21.info()\n"
   ]
  },
  {
   "cell_type": "code",
   "execution_count": 10,
   "id": "050b202c",
   "metadata": {},
   "outputs": [
    {
     "data": {
      "text/html": [
       "<div>\n",
       "<style scoped>\n",
       "    .dataframe tbody tr th:only-of-type {\n",
       "        vertical-align: middle;\n",
       "    }\n",
       "\n",
       "    .dataframe tbody tr th {\n",
       "        vertical-align: top;\n",
       "    }\n",
       "\n",
       "    .dataframe thead th {\n",
       "        text-align: right;\n",
       "    }\n",
       "</style>\n",
       "<table border=\"1\" class=\"dataframe\">\n",
       "  <thead>\n",
       "    <tr style=\"text-align: right;\">\n",
       "      <th></th>\n",
       "      <th>#PAGE_URL</th>\n",
       "      <th>title</th>\n",
       "      <th>company-name</th>\n",
       "      <th>job-link</th>\n",
       "      <th>job-link_link</th>\n",
       "      <th>short-description-</th>\n",
       "      <th>location</th>\n",
       "    </tr>\n",
       "  </thead>\n",
       "  <tbody>\n",
       "    <tr>\n",
       "      <th>0</th>\n",
       "      <td>https://wuzzuf.net/a/IT-Software-Development-J...</td>\n",
       "      <td>Sales Supervisor - North Upper Egypt</td>\n",
       "      <td>PepsiCo International</td>\n",
       "      <td>Sales Supervisor - North Upper Egypt</td>\n",
       "      <td>https://wuzzuf.net/jobs/p/cc5848eb-a2c4-4055-9...</td>\n",
       "      <td>Full Time · Manager · 1-3 Yrs of Exp · FMCG · ...</td>\n",
       "      <td>Beni Suef, Egypt</td>\n",
       "    </tr>\n",
       "    <tr>\n",
       "      <th>1</th>\n",
       "      <td>https://wuzzuf.net/a/IT-Software-Development-J...</td>\n",
       "      <td>Junior Technical Support Engineer - Upper Egypt</td>\n",
       "      <td>MigrationIT.com</td>\n",
       "      <td>Junior Technical Support Engineer - Upper Egypt</td>\n",
       "      <td>https://wuzzuf.net/jobs/p/39a68f94-611c-4a07-9...</td>\n",
       "      <td>Full Time · Entry Level · 1-2 Yrs of Exp · ITI...</td>\n",
       "      <td>Assiut, Egypt</td>\n",
       "    </tr>\n",
       "    <tr>\n",
       "      <th>2</th>\n",
       "      <td>https://wuzzuf.net/a/IT-Software-Development-J...</td>\n",
       "      <td>Software Developer</td>\n",
       "      <td>Rednet It Services</td>\n",
       "      <td>Software Developer</td>\n",
       "      <td>https://wuzzuf.net/jobs/p/7f3aec8d-1724-4f0c-9...</td>\n",
       "      <td>Full Time · Experienced · 2-3 Yrs of Exp · Sof...</td>\n",
       "      <td>Maadi, Cairo</td>\n",
       "    </tr>\n",
       "    <tr>\n",
       "      <th>3</th>\n",
       "      <td>https://wuzzuf.net/a/IT-Software-Development-J...</td>\n",
       "      <td>Senior Software Quality Control Engineer</td>\n",
       "      <td>Bnsights</td>\n",
       "      <td>Senior Software Quality Control Engineer</td>\n",
       "      <td>https://wuzzuf.net/jobs/p/bbc5d1cb-33ff-4c10-a...</td>\n",
       "      <td>Full Time · Experienced · 3-5 Yrs of Exp · Com...</td>\n",
       "      <td>New Cairo, Cairo</td>\n",
       "    </tr>\n",
       "    <tr>\n",
       "      <th>4</th>\n",
       "      <td>https://wuzzuf.net/a/IT-Software-Development-J...</td>\n",
       "      <td>Senior E-Commerce Software Developer (Magento 2)</td>\n",
       "      <td>shop4build</td>\n",
       "      <td>Senior E-Commerce Software Developer (Magento 2)</td>\n",
       "      <td>https://wuzzuf.net/jobs/p/2be88ac7-5a6c-4a5a-8...</td>\n",
       "      <td>Full Time · Part Time · Work From Home · Exper...</td>\n",
       "      <td>Maadi, Cairo</td>\n",
       "    </tr>\n",
       "  </tbody>\n",
       "</table>\n",
       "</div>"
      ],
      "text/plain": [
       "                                           #PAGE_URL  \\\n",
       "0  https://wuzzuf.net/a/IT-Software-Development-J...   \n",
       "1  https://wuzzuf.net/a/IT-Software-Development-J...   \n",
       "2  https://wuzzuf.net/a/IT-Software-Development-J...   \n",
       "3  https://wuzzuf.net/a/IT-Software-Development-J...   \n",
       "4  https://wuzzuf.net/a/IT-Software-Development-J...   \n",
       "\n",
       "                                              title           company-name  \\\n",
       "0              Sales Supervisor - North Upper Egypt  PepsiCo International   \n",
       "1   Junior Technical Support Engineer - Upper Egypt        MigrationIT.com   \n",
       "2                                Software Developer     Rednet It Services   \n",
       "3          Senior Software Quality Control Engineer               Bnsights   \n",
       "4  Senior E-Commerce Software Developer (Magento 2)             shop4build   \n",
       "\n",
       "                                           job-link  \\\n",
       "0              Sales Supervisor - North Upper Egypt   \n",
       "1   Junior Technical Support Engineer - Upper Egypt   \n",
       "2                                Software Developer   \n",
       "3          Senior Software Quality Control Engineer   \n",
       "4  Senior E-Commerce Software Developer (Magento 2)   \n",
       "\n",
       "                                       job-link_link  \\\n",
       "0  https://wuzzuf.net/jobs/p/cc5848eb-a2c4-4055-9...   \n",
       "1  https://wuzzuf.net/jobs/p/39a68f94-611c-4a07-9...   \n",
       "2  https://wuzzuf.net/jobs/p/7f3aec8d-1724-4f0c-9...   \n",
       "3  https://wuzzuf.net/jobs/p/bbc5d1cb-33ff-4c10-a...   \n",
       "4  https://wuzzuf.net/jobs/p/2be88ac7-5a6c-4a5a-8...   \n",
       "\n",
       "                                  short-description-          location  \n",
       "0  Full Time · Manager · 1-3 Yrs of Exp · FMCG · ...  Beni Suef, Egypt  \n",
       "1  Full Time · Entry Level · 1-2 Yrs of Exp · ITI...     Assiut, Egypt  \n",
       "2  Full Time · Experienced · 2-3 Yrs of Exp · Sof...      Maadi, Cairo  \n",
       "3  Full Time · Experienced · 3-5 Yrs of Exp · Com...  New Cairo, Cairo  \n",
       "4  Full Time · Part Time · Work From Home · Exper...      Maadi, Cairo  "
      ]
     },
     "execution_count": 10,
     "metadata": {},
     "output_type": "execute_result"
    }
   ],
   "source": [
    "df_20 = pd.read_csv('wuzzaf_2020.csv')\n",
    "df_20.head()"
   ]
  },
  {
   "cell_type": "code",
   "execution_count": 64,
   "id": "394f6a01",
   "metadata": {},
   "outputs": [],
   "source": [
    "# merge between  wuzzaf_2020 and wuzzaf_2021\n",
    "data = pd.concat([df_21, df_20])\n"
   ]
  },
  {
   "cell_type": "code",
   "execution_count": 65,
   "id": "017f9d74",
   "metadata": {},
   "outputs": [
    {
     "name": "stdout",
     "output_type": "stream",
     "text": [
      "<class 'pandas.core.frame.DataFrame'>\n",
      "Int64Index: 5218 entries, 0 to 2579\n",
      "Data columns (total 7 columns):\n",
      " #   Column              Non-Null Count  Dtype \n",
      "---  ------              --------------  ----- \n",
      " 0   #PAGE_URL           5218 non-null   object\n",
      " 1   title               5218 non-null   object\n",
      " 2   company-name        5218 non-null   object\n",
      " 3   job-link_link       5218 non-null   object\n",
      " 4   short-description-  5218 non-null   object\n",
      " 5   location            5218 non-null   object\n",
      " 6   job-link            2580 non-null   object\n",
      "dtypes: object(7)\n",
      "memory usage: 326.1+ KB\n"
     ]
    }
   ],
   "source": [
    "data.info()"
   ]
  },
  {
   "cell_type": "code",
   "execution_count": 66,
   "id": "f1749203",
   "metadata": {},
   "outputs": [
    {
     "data": {
      "text/plain": [
       "#PAGE_URL                0\n",
       "title                    0\n",
       "company-name             0\n",
       "job-link_link            0\n",
       "short-description-       0\n",
       "location                 0\n",
       "job-link              2638\n",
       "dtype: int64"
      ]
     },
     "execution_count": 66,
     "metadata": {},
     "output_type": "execute_result"
    }
   ],
   "source": [
    "# checking the null values \n",
    "data.isnull().sum()"
   ]
  },
  {
   "cell_type": "code",
   "execution_count": 67,
   "id": "0a51f81f",
   "metadata": {},
   "outputs": [],
   "source": [
    "# drop job-link (missing values ) and #PAGE_URL not important\n",
    "df = data.drop(['job-link','#PAGE_URL'], axis=1)"
   ]
  },
  {
   "cell_type": "code",
   "execution_count": 68,
   "id": "85bd7c07",
   "metadata": {},
   "outputs": [
    {
     "name": "stdout",
     "output_type": "stream",
     "text": [
      "<class 'pandas.core.frame.DataFrame'>\n",
      "Int64Index: 5218 entries, 0 to 2579\n",
      "Data columns (total 5 columns):\n",
      " #   Column              Non-Null Count  Dtype \n",
      "---  ------              --------------  ----- \n",
      " 0   title               5218 non-null   object\n",
      " 1   company-name        5218 non-null   object\n",
      " 2   job-link_link       5218 non-null   object\n",
      " 3   short-description-  5218 non-null   object\n",
      " 4   location            5218 non-null   object\n",
      "dtypes: object(5)\n",
      "memory usage: 244.6+ KB\n"
     ]
    }
   ],
   "source": [
    "df.info()"
   ]
  },
  {
   "cell_type": "code",
   "execution_count": 69,
   "id": "6243b9c9",
   "metadata": {},
   "outputs": [],
   "source": [
    "df_edit = df.rename(columns = {'short-description-':'description'})\n"
   ]
  },
  {
   "cell_type": "code",
   "execution_count": 70,
   "id": "ce6838ba",
   "metadata": {},
   "outputs": [],
   "source": [
    "# save into csv file\n",
    "df_edit.to_csv(\"wuzzaf2021_cleaned.csv\", index = False)"
   ]
  },
  {
   "cell_type": "code",
   "execution_count": 71,
   "id": "6af08691",
   "metadata": {},
   "outputs": [
    {
     "data": {
      "text/plain": [
       "<AxesSubplot:title={'center':'the most job'}>"
      ]
     },
     "execution_count": 71,
     "metadata": {},
     "output_type": "execute_result"
    },
    {
     "data": {
      "image/png": "[encoded data removed]",
      "text/plain": [
       "<Figure size 432x288 with 1 Axes>"
      ]
     },
     "metadata": {
      "needs_background": "light"
     },
     "output_type": "display_data"
    }
   ],
   "source": [
    "#1- what is the most job offers in 2021\n",
    "job_title = df['title'].value_counts()[:20]\n",
    "job_title.plot(kind='barh',title = 'the most job' ) "
   ]
  },
  {
   "cell_type": "markdown",
   "id": "d6aedf2e",
   "metadata": {},
   "source": [
    "## Conclusions\n",
    "\n"
   ]
  },
  {
   "cell_type": "markdown",
   "id": "67910b45",
   "metadata": {},
   "source": [
    "The most 5 job offers in 2020 is (IT Specialist, Business Analyst,Graphic design, front end developer, full stack developer)"
   ]
  },
  {
   "cell_type": "code",
   "execution_count": 72,
   "id": "b200c17e",
   "metadata": {},
   "outputs": [
    {
     "data": {
      "text/plain": [
       "<AxesSubplot:title={'center':'the top job location'}>"
      ]
     },
     "execution_count": 72,
     "metadata": {},
     "output_type": "execute_result"
    },
    {
     "data": {
      "image/png": "[encoded data removed]",
      "text/plain": [
       "<Figure size 432x288 with 1 Axes>"
      ]
     },
     "metadata": {
      "needs_background": "light"
     },
     "output_type": "display_data"
    }
   ],
   "source": [
    "# what is top job location \n",
    "top_job = data[\"location\"].value_counts()[0:20]\n",
    "top_job.plot(kind = 'barh',title = 'the top job location' )"
   ]
  },
  {
   "cell_type": "markdown",
   "id": "e3f91a0b",
   "metadata": {},
   "source": [
    "## Conclusions"
   ]
  },
  {
   "cell_type": "markdown",
   "id": "0c60d68b",
   "metadata": {},
   "source": [
    "the 5 top job locations is (cairo egypt , maddi cairo , nasr city, new cairo,6th of october )  "
   ]
  },
  {
   "cell_type": "code",
   "execution_count": 73,
   "id": "40b71f81",
   "metadata": {},
   "outputs": [
    {
     "data": {
      "text/plain": [
       "<AxesSubplot:title={'center':'the top employing companies'}>"
      ]
     },
     "execution_count": 73,
     "metadata": {},
     "output_type": "execute_result"
    },
    {
     "data": {
      "image/png": "[encoded data removed]",
      "text/plain": [
       "<Figure size 432x288 with 1 Axes>"
      ]
     },
     "metadata": {
      "needs_background": "light"
     },
     "output_type": "display_data"
    }
   ],
   "source": [
    "# what is the top employing companies \n",
    "company = df['company-name'].value_counts()[:20]\n",
    "company.plot(kind = 'barh',title='the top employing companies')"
   ]
  },
  {
   "cell_type": "markdown",
   "id": "5bc6054c",
   "metadata": {},
   "source": [
    "## Conclusions\n"
   ]
  },
  {
   "cell_type": "markdown",
   "id": "1ea23876",
   "metadata": {},
   "source": [
    "the 2 top employing companies is (confidential , flairsTech)"
   ]
  },
  {
   "cell_type": "code",
   "execution_count": null,
   "id": "1adb36e9",
   "metadata": {},
   "outputs": [],
   "source": []
  }
 ],
 "metadata": {
  "kernelspec": {
   "display_name": "Python 3",
   "language": "python",
   "name": "python3"
  },
  "language_info": {
   "codemirror_mode": {
    "name": "ipython",
    "version": 3
   },
   "file_extension": ".py",
   "mimetype": "text/x-python",
   "name": "python",
   "nbconvert_exporter": "python",
   "pygments_lexer": "ipython3",
   "version": "3.8.8"
  }
 },
 "nbformat": 4,
 "nbformat_minor": 5
}
